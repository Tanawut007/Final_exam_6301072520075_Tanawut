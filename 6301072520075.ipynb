{
 "cells": [
  {
   "cell_type": "code",
   "execution_count": 1,
   "metadata": {},
   "outputs": [],
   "source": [
    "import numpy as np\n",
    "import cv2\n",
    "\n",
    "\n",
    "IP_file = 'left_output-1.avi'\n",
    "vid = cv2.VideoCapture(IP_file)\n",
    "template_img = cv2.imread('Template-1.png')\n",
    "template_gray = cv2.cvtColor(template_img, cv2.COLOR_BGR2GRAY)\n",
    "\n",
    "font = cv2.FONT_HERSHEY_SIMPLEX\n",
    "fontScale = 0.8\n",
    "color = (0, 0, 255)\n",
    "thickness = 2\n",
    "\n",
    "\n",
    "while vid.isOpened() :\n",
    "    ret, query_img = vid.read()\n",
    "    query_gray = cv2.cvtColor(query_img, cv2.COLOR_BGR2GRAY)\n",
    "    if ret :\n",
    "        sift = cv2.SIFT_create()\n",
    "        bf = cv2.BFMatcher()\n",
    "        template_kpts, template_desc = sift.detectAndCompute(template_gray, None)\n",
    "        query_kpts, query_desc = sift.detectAndCompute(query_gray, None)\n",
    "        matches = bf.knnMatch(template_desc, query_desc, k=2)\n",
    "        \n",
    "        good_matches = list()\n",
    "        for m, n in matches :\n",
    "            if m.distance < 0.7*n.distance :\n",
    "                good_matches.append(m)\n",
    "                \n",
    "        \n",
    "        if len(good_matches) > 10 :\n",
    "            src_pts = np.float32([ template_kpts[m.queryIdx].pt for m in good_matches ]).reshape(-1,1,2)\n",
    "            dst_pts = np.float32([ query_kpts[m.trainIdx].pt for m in good_matches ]).reshape(-1,1,2)\n",
    "            H, inlier_masks = cv2.findHomography(src_pts, dst_pts, cv2.RANSAC, 2.5)\n",
    "            h, w = template_img.shape[:2]\n",
    "            \n",
    "\n",
    "\n",
    "            template_box = np.float32([[0, 0], [0, h-1], [w-1, h-1], [w-1, 0]]).reshape(-1,1,2)\n",
    "            transformed_box = cv2.perspectiveTransform(template_box, H)\n",
    "            x = [np.int32(transformed_box)]\n",
    "\n",
    "            detected_img = cv2.polylines(query_img, [np.int32(transformed_box)], True, (0,255,0), 3, cv2.LINE_AA)\n",
    "            \n",
    "            w_max = query_img.shape[1] / 2\n",
    "            h_max = query_img.shape[0] / 2\n",
    "\n",
    "\n",
    "            x1 = int(x[0][0][0][0]) #X topleft\n",
    "            y1 = int(x[0][0][0][1]) #y topleft\n",
    "            x2 = int(x[0][1][0][0]) #x botleft\n",
    "            y2 = int(x[0][1][0][1]) #y botleft\n",
    "            z = y2 - y1\n",
    "\n",
    "            X_Current = x1 - w_max\n",
    "            Y_Current = h_max - y1\n",
    "            Z_Current = 200 - z\n",
    "\n",
    "            str1 = '('+\"{:.0f}\".format(X_Current) + ',' +\"{:.0f}\".format(Y_Current) + ',' +\"{:.0f}\".format(Z_Current)+ ')'\n",
    "\n",
    "            detected_img2 = cv2.putText(detected_img,str1, (x1,y1), font,fontScale, color, thickness, cv2.LINE_AA)\n",
    "            cv2.imshow('Video frame', detected_img)\n",
    "\n",
    "        if cv2.waitKey(int(1000/24)) & 0xFF == ord('q') :\n",
    "            break\n",
    "    else :\n",
    "        break\n",
    "vid.release()\n",
    "cv2.destroyAllWindows()"
   ]
  }
 ],
 "metadata": {
  "kernelspec": {
   "display_name": "Python 3.10.6 64-bit",
   "language": "python",
   "name": "python3"
  },
  "language_info": {
   "codemirror_mode": {
    "name": "ipython",
    "version": 3
   },
   "file_extension": ".py",
   "mimetype": "text/x-python",
   "name": "python",
   "nbconvert_exporter": "python",
   "pygments_lexer": "ipython3",
   "version": "3.10.6"
  },
  "orig_nbformat": 4,
  "vscode": {
   "interpreter": {
    "hash": "a9cff5a362bc38ef45d817ae74b1af54d6a076e3d773891282bce078b815ba34"
   }
  }
 },
 "nbformat": 4,
 "nbformat_minor": 2
}
